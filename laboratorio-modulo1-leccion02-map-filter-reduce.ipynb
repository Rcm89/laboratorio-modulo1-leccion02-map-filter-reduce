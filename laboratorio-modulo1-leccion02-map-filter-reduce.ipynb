{
 "cells": [
  {
   "cell_type": "markdown",
   "metadata": {},
   "source": [
    "\n",
    "<div style=\"text-align: center;\">\n",
    "  <img src=\"https://github.com/Hack-io-Data/Imagenes/blob/main/01-LogosHackio/logo_celeste@4x.png?raw=true\" alt=\"esquema\" />\n",
    "</div>\n"
   ]
  },
  {
   "cell_type": "markdown",
   "metadata": {},
   "source": [
    "# Laboratorio de Python: map(), filter() y reduce()"
   ]
  },
  {
   "cell_type": "markdown",
   "metadata": {},
   "source": [
    "## Ejercicio 1. map ()"
   ]
  },
  {
   "cell_type": "markdown",
   "metadata": {},
   "source": [
    "1.1. Dada una lista de números, obtén una nueva lista con el doble de cada valor.\n",
    "\n",
    "1.2. Genera una función que al recibir una frase devuelva una lista con la longitud de cada palabra. Nota: también se puede solucionar con una `lambda`. \n",
    "\n",
    "1.3. Genera una función que convierta una lista de tuplas a una lista de strings, por ejemplo: \n",
    "\n",
    "```python\n",
    "lista_de_tuplas = [(\"Juan\", \"Pérez\"),(\"María\", \"García\"),(\"Luis\", \"Martínez\"),(\"Ana\", \"López\"),(\"Carlos\", \"Sánchez\"),(\"Elena\", \"Fernández\"),(\"Miguel\", \"González\")]\n",
    "\n",
    "\n",
    "# output esperado\n",
    "['Juan Pérez',\n",
    "'María García',\n",
    "'Luis Martínez',\n",
    "'Ana López',\n",
    "'Carlos Sánchez',\n",
    "'Elena Fernández',\n",
    "'Miguel González']\n",
    "```\n",
    "\n",
    "1.4. Crea una función que calcule la diferencia entre los valores correspondientes de dos listas. Debrás restar los elementos de las dos listas, devolviendo una nueva lista con las diferencias. Por ejemplo: \n",
    "\n",
    "```python\n",
    "# input\n",
    "numeros = [4, 8, 15, 16, 23, 42]\n",
    "numeros_2 = [5, 12, 37, 8, 23, 45]\n",
    "\n",
    "# output\n",
    "[1, 4, 22, -8, 0, 3]\n",
    "```\n",
    "\n",
    "1.5. Genera una función la cual, para un conjunto de caracteres, devuelva una lista de tuplas con cada letra en mayúsculas y minúsculas. Importante, no puede haber dos tuplas que contengan las mismas letras. Ejemplo:\n",
    "\n",
    "```python\n",
    "conjunto_caracteres = {'a', 'b', 'E', 'f', 'a', 'i', 'o', 'U', 'a'}\n",
    "\n",
    "# output\n",
    "{('A', 'a'),\n",
    " ('B', 'b'),\n",
    " ('E', 'e'),\n",
    " ('F', 'f'),\n",
    " ('I', 'i'),\n",
    " ('O', 'o'),\n",
    " ('U', 'u')}\n",
    "```\n",
    "\n",
    " "
   ]
  },
  {
   "cell_type": "markdown",
   "metadata": {},
   "source": [
    "Solución al 1.1:"
   ]
  },
  {
   "cell_type": "code",
   "execution_count": 3,
   "metadata": {},
   "outputs": [
    {
     "name": "stdout",
     "output_type": "stream",
     "text": [
      "la lista original antes de calcular el doble de cada numero es: [1, 2, 3, 4, 5]\n",
      "El resultado de la función map es: [2, 4, 6, 8, 10]\n"
     ]
    }
   ],
   "source": [
    "def valor_doble(num):\n",
    "    \"\"\"\n",
    "    Calcula el doble de un número.\n",
    "\n",
    "    Params:\n",
    "        - num (int o float): El número que se desea multiplicar por 2.\n",
    "\n",
    "    Returns:\n",
    "        int o float: El doble del número proporcionado.\n",
    "    \"\"\"\n",
    "    return num*2\n",
    "\n",
    "\n",
    "# definimos lista_numeros para aplicar sobre ella la función.\n",
    "lista_numeros = [1,2,3,4,5]\n",
    "print(f\"la lista original antes de calcular el doble de cada numero es: {lista_numeros}\")\n",
    "\n",
    "# utilizamos el map para ejecutar la función a todos los elementos de la lista y hacemos que el resultado sea de tipo lista\n",
    "resultado = list(map(valor_doble,lista_numeros))\n",
    "print(f\"El resultado de la función map es: {resultado}\")"
   ]
  },
  {
   "cell_type": "markdown",
   "metadata": {},
   "source": [
    "Solución al 1.2:"
   ]
  },
  {
   "cell_type": "code",
   "execution_count": 5,
   "metadata": {},
   "outputs": [
    {
     "name": "stdout",
     "output_type": "stream",
     "text": [
      "[2, 7, 6, 1, 3, 7]\n"
     ]
    }
   ],
   "source": [
    "def longitudes_palabras(frase):\n",
    "    \"\"\"\n",
    "    Calcula la longitud de cada palabra de una frase.\n",
    "\n",
    "    Params:\n",
    "        - frase (string): La frase de cuyas palabras queremos calcular la longitud.\n",
    "\n",
    "    Returns:\n",
    "        list: Una lista de enteros correspondiente a la longitud de cada palabra.\n",
    "    \"\"\"\n",
    "    # Usar map para obtener la longitud de cada palabra\n",
    "    return list(map(len, frase.split()))\n",
    "\n",
    "frase = input(\"Introduce una frase: \")\n",
    "resultado = longitudes_palabras(frase)\n",
    "print(resultado)\n"
   ]
  },
  {
   "cell_type": "code",
   "execution_count": null,
   "metadata": {},
   "outputs": [],
   "source": [
    "\"\"\"\n",
    "Lo solucionamos usando una lambda\n",
    "\"\"\"\n",
    "\n",
    "# La entrada se hace solicitando una frase al usuario\n",
    "frase = input(\"Introduce una frase: \")\n",
    "# Usamos map y lambda para obtener la longitud de cada palabra\n",
    "longitudes_palabras = list(map(lambda palabra: len(palabra), frase.split()))\n",
    "# Mostramos el resultado\n",
    "print(\"Longitudes de las palabras:\", longitudes_palabras)\n"
   ]
  },
  {
   "cell_type": "markdown",
   "metadata": {},
   "source": [
    "Solución al 1.3:"
   ]
  },
  {
   "cell_type": "code",
   "execution_count": 6,
   "metadata": {},
   "outputs": [
    {
     "data": {
      "text/plain": [
       "['Juan Pérez',\n",
       " 'María García',\n",
       " 'Luis Martínez',\n",
       " 'Ana López',\n",
       " 'Carlos Sánchez',\n",
       " 'Elena Fernández',\n",
       " 'Miguel González']"
      ]
     },
     "execution_count": 6,
     "metadata": {},
     "output_type": "execute_result"
    }
   ],
   "source": [
    "def tuplas_a_strings(lista_tuplas):\n",
    "    \"\"\"\n",
    "    Convierte una lista de tuplas en una lista de strings.\n",
    "\n",
    "    Params:\n",
    "        - lista_tuplas (list): La lista de tuplas que queremos convertir a string.\n",
    "\n",
    "    Returns:\n",
    "        lista_strings (list): Una lista de strings.\n",
    "    \"\"\"\n",
    "    lista_strings = []\n",
    "    for tupla in lista_tuplas:\n",
    "        tupla_convertida = ' '.join(map(str, tupla))\n",
    "        lista_strings.append(tupla_convertida)\n",
    "    return lista_strings\n",
    "\n",
    "#Lo probamos con el ejemplo del enunciado\n",
    "lista_de_tuplas = [(\"Juan\", \"Pérez\"),(\"María\", \"García\"),(\"Luis\", \"Martínez\"),(\"Ana\", \"López\"),(\"Carlos\", \"Sánchez\"),(\"Elena\", \"Fernández\"),(\"Miguel\", \"González\")]\n",
    "tuplas_a_strings(lista_de_tuplas)"
   ]
  },
  {
   "cell_type": "markdown",
   "metadata": {},
   "source": [
    "Solución al 1.4"
   ]
  },
  {
   "cell_type": "code",
   "execution_count": 7,
   "metadata": {},
   "outputs": [
    {
     "name": "stdout",
     "output_type": "stream",
     "text": [
      "[-1, -4, -22, 8, 0, -3]\n"
     ]
    }
   ],
   "source": [
    "def resta(num1, num2):\n",
    "    \"\"\"\n",
    "    Función que resta dos numeros\n",
    "    \"\"\"\n",
    "    return num1-num2\n",
    "\n",
    "def diferencia_listas(lista1, lista2): #Aplicamos la funcion resta a cada elemento delas dos listas\n",
    "    return list(map(resta, lista1, lista2))\n",
    "\n",
    "# Lo ejecutamos con el ejemplo del enunciado\n",
    "numeros = [4, 8, 15, 16, 23, 42]\n",
    "numeros_2 = [5, 12, 37, 8, 23, 45]\n",
    "resultado = diferencia_listas(numeros, numeros_2)\n",
    "print(resultado)\n"
   ]
  },
  {
   "cell_type": "code",
   "execution_count": 23,
   "metadata": {},
   "outputs": [
    {
     "name": "stdout",
     "output_type": "stream",
     "text": [
      "El resultado de la función map a las dos listas es: [-1, -4, -22, 8, 0, -3]\n"
     ]
    }
   ],
   "source": [
    "# Lo resolvemos con una lambda\n",
    "resultado = list(map(lambda n1, n2: n1-n2, numeros, numeros_2))\n",
    "print(f\"El resultado de la función map a las dos listas es: {resultado}\")"
   ]
  },
  {
   "cell_type": "markdown",
   "metadata": {},
   "source": [
    "Solución al 1.5"
   ]
  },
  {
   "cell_type": "code",
   "execution_count": 17,
   "metadata": {},
   "outputs": [
    {
     "data": {
      "text/plain": [
       "[('A', 'a'),\n",
       " ('U', 'u'),\n",
       " ('F', 'f'),\n",
       " ('E', 'e'),\n",
       " ('O', 'o'),\n",
       " ('I', 'i'),\n",
       " ('B', 'b')]"
      ]
     },
     "execution_count": 17,
     "metadata": {},
     "output_type": "execute_result"
    }
   ],
   "source": [
    "def crear_tupla(letra):\n",
    "    # Toma una letra y devuelve una tupla con la letra en mayúsculas y minúsculas.\n",
    "    return (letra.upper(), letra.lower())\n",
    "\n",
    "def letras_mayus_minus(caracteres):\n",
    "    #Toma un conjunto de caracteres y devuelve una lista de tuplas\n",
    "    letras = {letra for letra in caracteres if letra.isalpha()}  # Nos quedamos solo con las letras\n",
    "    return list(map(crear_tupla, letras))\n",
    "\n",
    "#Lo probamos con el ejemplo del enunciado\n",
    "conjunto_caracteres = {'a', 'b', 'E', 'f', 'a', 'i', 'o', 'U', 'a'}\n",
    "letras_mayus_minus(conjunto_caracteres)"
   ]
  },
  {
   "cell_type": "markdown",
   "metadata": {},
   "source": [
    "## Ejercicio 2. Filter ()"
   ]
  },
  {
   "cell_type": "markdown",
   "metadata": {},
   "source": [
    "2.1. Crea una función que devuelva las palabras de una lista que comienzan con una letra específica. Por ejemplo:\n",
    "\n",
    "```python\n",
    "# input\n",
    "frase = 'Incluso la persona más pequeña puede cambiar el curso del futuro.'\n",
    "letra = 'p'\n",
    "\n",
    "# output\n",
    "['persona', 'pequeña', 'puede']\n",
    "```\n",
    "\n",
    "2.2. Para una lista con elementos tipo *integer* y *string*, obtén una nueva lista sólo con los valores de tipo *integer*.\n",
    "\n",
    "2.3. Escribe una función que tome una lista de nombres de mascotas como parámetro y devuelva una nueva lista excluyendo ciertas mascotas prohibidas en España. La lista de mascotas a excluir es [\"Mapache\", \"Tigre\", \"Serpiente Pitón\", \"Cocodrilo\", \"Oso\"].\n",
    "\n",
    "```python\n",
    "#input\n",
    "mascotas = ['Perro', 'Tigre', 'Gato', 'Oso', 'Erizo']\n",
    "\n",
    "# output\n",
    "['Perro', 'Gato', 'Erizo']\n",
    "```\n",
    "2.4. Escribe un programa en Python que cree una lista de diccionarios que contenga información de estudiantes (nombre, edad, calificación) y use la función filter para extraer a los estudiantes con una calificación mayor o igual a 90."
   ]
  },
  {
   "cell_type": "markdown",
   "metadata": {},
   "source": [
    "Solución al 2.1"
   ]
  },
  {
   "cell_type": "code",
   "execution_count": 22,
   "metadata": {},
   "outputs": [
    {
     "name": "stdout",
     "output_type": "stream",
     "text": [
      "['persona', 'pequeña', 'puede']\n"
     ]
    }
   ],
   "source": [
    "def empieza_con_letra(frase, letra):\n",
    "    # Usar filter para obtener las palabras que comienzan con la letra especificada\n",
    "    return list(filter(lambda palabra: palabra.lower().startswith(letra.lower()), frase.split()))\n",
    "\n",
    "# Lo ejecutamos con el ejemplo del enunciado\n",
    "frase = 'Incluso la persona más pequeña puede cambiar el curso del futuro.'\n",
    "letra = 'p'\n",
    "resultado = empieza_con_letra(frase, letra)\n",
    "print(resultado)\n"
   ]
  },
  {
   "cell_type": "markdown",
   "metadata": {},
   "source": [
    "Solución al 2.2"
   ]
  },
  {
   "cell_type": "code",
   "execution_count": 24,
   "metadata": {},
   "outputs": [
    {
     "name": "stdout",
     "output_type": "stream",
     "text": [
      "[1, 3, 5, 7]\n"
     ]
    }
   ],
   "source": [
    "def es_entero(x):\n",
    "    return type(x) == int\n",
    "# Lista con elementos de tipo integer y string\n",
    "lista_mixta = [1, 'dos', 3, 'cuatro', 5, 'seis', 7]\n",
    "# Usamos filter para obtener solo los valores de tipo integer\n",
    "resultado = list(filter(es_entero, lista_mixta))\n",
    "print(resultado)\n",
    "\n"
   ]
  },
  {
   "cell_type": "markdown",
   "metadata": {},
   "source": [
    "## Ejercicio 3. Reduce ()"
   ]
  },
  {
   "cell_type": "markdown",
   "metadata": {},
   "source": [
    "3.1 Crea una función que tome una lista de dígitos y devuelva el número correspondiente. Por ejemplo, [5,7,2] corresponde al número quinientos setenta y dos (572).\n",
    "\n",
    "3.2. Dada una lista de números enteros, obtén el producto total de los valores de dicha lista\n",
    "\n",
    "3.3. Concatena una lista de palabras. Por ejemplo:\n",
    "\n",
    "```python\n",
    "# input\n",
    "lista_int_str = ['Un', 'mago', 'nunca']\n",
    "\n",
    "# output\n",
    "'Unmagonunca'\n",
    "```\n",
    "\n",
    "3.4. Calcula la diferencia total en los valores de una lista, es decir, crea un programa que vaya restando todos sus elementos.\n"
   ]
  },
  {
   "cell_type": "code",
   "execution_count": null,
   "metadata": {},
   "outputs": [],
   "source": []
  },
  {
   "cell_type": "code",
   "execution_count": null,
   "metadata": {},
   "outputs": [],
   "source": []
  },
  {
   "cell_type": "markdown",
   "metadata": {},
   "source": [
    "## Ejercicio 4. Ejercicios combinando las funciones"
   ]
  },
  {
   "cell_type": "markdown",
   "metadata": {},
   "source": [
    "4.1. Dada una lista de números, filtra los números positivos y calcula su promedio.\n",
    "\n",
    "4.2. Dada una lista de palabras, filtra las palabras que empiezan con una vocal, conviértelas a mayúsculas, y luego concaténalas en una sola cadena. \n",
    "\n",
    "4.3. Dada una lista numérica, filtra los números impares y calcula el producto de todos ellos \n",
    "\n",
    "4.4. Dada una lista de palabras, filtra las que contienen la letra 'a' y cuenta cuántas hay."
   ]
  },
  {
   "cell_type": "code",
   "execution_count": null,
   "metadata": {},
   "outputs": [],
   "source": []
  },
  {
   "cell_type": "code",
   "execution_count": null,
   "metadata": {},
   "outputs": [],
   "source": []
  }
 ],
 "metadata": {
  "kernelspec": {
   "display_name": "base",
   "language": "python",
   "name": "python3"
  },
  "language_info": {
   "codemirror_mode": {
    "name": "ipython",
    "version": 3
   },
   "file_extension": ".py",
   "mimetype": "text/x-python",
   "name": "python",
   "nbconvert_exporter": "python",
   "pygments_lexer": "ipython3",
   "version": "3.12.6"
  }
 },
 "nbformat": 4,
 "nbformat_minor": 2
}
